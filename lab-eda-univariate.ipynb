{
 "cells": [
  {
   "cell_type": "code",
   "execution_count": 1,
   "id": "69baacfd-62f2-41d9-bebd-697143d3817a",
   "metadata": {},
   "outputs": [],
   "source": [
    "import pandas as pd \n",
    "import matplotlib.pyplot as plt\n",
    "import seaborn as sns\n",
    "import numpy as np\n",
    "#Te permite hacer plots aunque este enmedio de algo\n",
    "%matplotlib inline \n",
    "pd.set_option('display.max_columns', None) #asi me deja ver todas las columnas."
   ]
  },
  {
   "cell_type": "code",
   "execution_count": 3,
   "id": "44346279-b93d-4387-9758-f18e37137557",
   "metadata": {},
   "outputs": [],
   "source": [
    "df = pd.read_csv(\"C:/Users/astri/Ironhack/Labs/lab-eda-univariate/amz_uk_price_prediction_dataset.csv.zip\")"
   ]
  },
  {
   "cell_type": "code",
   "execution_count": 5,
   "id": "64f0738a-4a8e-48f4-8110-3d1d1b37b9a7",
   "metadata": {},
   "outputs": [
    {
     "data": {
      "text/html": [
       "<div>\n",
       "<style scoped>\n",
       "    .dataframe tbody tr th:only-of-type {\n",
       "        vertical-align: middle;\n",
       "    }\n",
       "\n",
       "    .dataframe tbody tr th {\n",
       "        vertical-align: top;\n",
       "    }\n",
       "\n",
       "    .dataframe thead th {\n",
       "        text-align: right;\n",
       "    }\n",
       "</style>\n",
       "<table border=\"1\" class=\"dataframe\">\n",
       "  <thead>\n",
       "    <tr style=\"text-align: right;\">\n",
       "      <th></th>\n",
       "      <th>uid</th>\n",
       "      <th>asin</th>\n",
       "      <th>title</th>\n",
       "      <th>stars</th>\n",
       "      <th>reviews</th>\n",
       "      <th>price</th>\n",
       "      <th>isBestSeller</th>\n",
       "      <th>boughtInLastMonth</th>\n",
       "      <th>category</th>\n",
       "    </tr>\n",
       "  </thead>\n",
       "  <tbody>\n",
       "    <tr>\n",
       "      <th>0</th>\n",
       "      <td>1</td>\n",
       "      <td>B09B96TG33</td>\n",
       "      <td>Echo Dot (5th generation, 2022 release) | Big ...</td>\n",
       "      <td>4.7</td>\n",
       "      <td>15308</td>\n",
       "      <td>21.99</td>\n",
       "      <td>False</td>\n",
       "      <td>0</td>\n",
       "      <td>Hi-Fi Speakers</td>\n",
       "    </tr>\n",
       "    <tr>\n",
       "      <th>1</th>\n",
       "      <td>2</td>\n",
       "      <td>B01HTH3C8S</td>\n",
       "      <td>Anker Soundcore mini, Super-Portable Bluetooth...</td>\n",
       "      <td>4.7</td>\n",
       "      <td>98099</td>\n",
       "      <td>23.99</td>\n",
       "      <td>True</td>\n",
       "      <td>0</td>\n",
       "      <td>Hi-Fi Speakers</td>\n",
       "    </tr>\n",
       "    <tr>\n",
       "      <th>2</th>\n",
       "      <td>3</td>\n",
       "      <td>B09B8YWXDF</td>\n",
       "      <td>Echo Dot (5th generation, 2022 release) | Big ...</td>\n",
       "      <td>4.7</td>\n",
       "      <td>15308</td>\n",
       "      <td>21.99</td>\n",
       "      <td>False</td>\n",
       "      <td>0</td>\n",
       "      <td>Hi-Fi Speakers</td>\n",
       "    </tr>\n",
       "    <tr>\n",
       "      <th>3</th>\n",
       "      <td>4</td>\n",
       "      <td>B09B8T5VGV</td>\n",
       "      <td>Echo Dot with clock (5th generation, 2022 rele...</td>\n",
       "      <td>4.7</td>\n",
       "      <td>7205</td>\n",
       "      <td>31.99</td>\n",
       "      <td>False</td>\n",
       "      <td>0</td>\n",
       "      <td>Hi-Fi Speakers</td>\n",
       "    </tr>\n",
       "    <tr>\n",
       "      <th>4</th>\n",
       "      <td>5</td>\n",
       "      <td>B09WX6QD65</td>\n",
       "      <td>Introducing Echo Pop | Full sound compact Wi-F...</td>\n",
       "      <td>4.6</td>\n",
       "      <td>1881</td>\n",
       "      <td>17.99</td>\n",
       "      <td>False</td>\n",
       "      <td>0</td>\n",
       "      <td>Hi-Fi Speakers</td>\n",
       "    </tr>\n",
       "  </tbody>\n",
       "</table>\n",
       "</div>"
      ],
      "text/plain": [
       "   uid        asin                                              title  stars  \\\n",
       "0    1  B09B96TG33  Echo Dot (5th generation, 2022 release) | Big ...    4.7   \n",
       "1    2  B01HTH3C8S  Anker Soundcore mini, Super-Portable Bluetooth...    4.7   \n",
       "2    3  B09B8YWXDF  Echo Dot (5th generation, 2022 release) | Big ...    4.7   \n",
       "3    4  B09B8T5VGV  Echo Dot with clock (5th generation, 2022 rele...    4.7   \n",
       "4    5  B09WX6QD65  Introducing Echo Pop | Full sound compact Wi-F...    4.6   \n",
       "\n",
       "   reviews  price  isBestSeller  boughtInLastMonth        category  \n",
       "0    15308  21.99         False                  0  Hi-Fi Speakers  \n",
       "1    98099  23.99          True                  0  Hi-Fi Speakers  \n",
       "2    15308  21.99         False                  0  Hi-Fi Speakers  \n",
       "3     7205  31.99         False                  0  Hi-Fi Speakers  \n",
       "4     1881  17.99         False                  0  Hi-Fi Speakers  "
      ]
     },
     "execution_count": 5,
     "metadata": {},
     "output_type": "execute_result"
    }
   ],
   "source": [
    "df.head()"
   ]
  },
  {
   "cell_type": "code",
   "execution_count": 7,
   "id": "41e38e3c-8743-4c33-b508-0d16f462c927",
   "metadata": {},
   "outputs": [
    {
     "data": {
      "text/plain": [
       "(2443651, 9)"
      ]
     },
     "execution_count": 7,
     "metadata": {},
     "output_type": "execute_result"
    }
   ],
   "source": [
    "df.shape"
   ]
  },
  {
   "cell_type": "code",
   "execution_count": 9,
   "id": "05693af8-4344-47f7-900d-dfe83f650562",
   "metadata": {},
   "outputs": [
    {
     "name": "stdout",
     "output_type": "stream",
     "text": [
      "<class 'pandas.core.frame.DataFrame'>\n",
      "RangeIndex: 2443651 entries, 0 to 2443650\n",
      "Data columns (total 9 columns):\n",
      " #   Column             Dtype  \n",
      "---  ------             -----  \n",
      " 0   uid                int64  \n",
      " 1   asin               object \n",
      " 2   title              object \n",
      " 3   stars              float64\n",
      " 4   reviews            int64  \n",
      " 5   price              float64\n",
      " 6   isBestSeller       bool   \n",
      " 7   boughtInLastMonth  int64  \n",
      " 8   category           object \n",
      "dtypes: bool(1), float64(2), int64(3), object(3)\n",
      "memory usage: 151.5+ MB\n"
     ]
    }
   ],
   "source": [
    "df.info()"
   ]
  },
  {
   "cell_type": "markdown",
   "id": "5b99c702-aa36-4c90-9ffc-390fdfb6fa0f",
   "metadata": {},
   "source": [
    "**Verificamos que columnas son numericas y cuales no**"
   ]
  },
  {
   "cell_type": "code",
   "execution_count": 12,
   "id": "ba7bc246-c8d5-4999-813e-770633c28532",
   "metadata": {},
   "outputs": [],
   "source": [
    "num = df.select_dtypes(include = \"number\")\n",
    "cat = df.select_dtypes(exclude = \"number\")"
   ]
  },
  {
   "cell_type": "code",
   "execution_count": 21,
   "id": "297ddd39-13e4-48a8-bd79-e97d3f995d81",
   "metadata": {},
   "outputs": [
    {
     "data": {
      "text/plain": [
       "uid                  2443651\n",
       "stars                     42\n",
       "reviews                19446\n",
       "price                  82916\n",
       "boughtInLastMonth         25\n",
       "dtype: int64"
      ]
     },
     "execution_count": 21,
     "metadata": {},
     "output_type": "execute_result"
    }
   ],
   "source": [
    "num.nunique()"
   ]
  },
  {
   "cell_type": "code",
   "execution_count": 34,
   "id": "23088fb7-c514-48df-a02a-e3b9801aee51",
   "metadata": {},
   "outputs": [
    {
     "data": {
      "text/plain": [
       "array([4.7, 4.6, 4.5, 4.8, 0. , 4.4, 4.3, 4.1, 4.9, 5. , 3.8, 3.6, 4. ,\n",
       "       4.2, 3. , 3.9, 2.5, 3.4, 3.7, 3.2, 3.3, 3.5, 2.7, 2.1, 1. , 3.1,\n",
       "       2. , 2.9, 2.8, 1.5, 2.2, 2.3, 2.6, 2.4, 1.4, 1.9, 1.8, 1.7, 1.6,\n",
       "       1.2, 1.3, 1.1])"
      ]
     },
     "execution_count": 34,
     "metadata": {},
     "output_type": "execute_result"
    }
   ],
   "source": [
    "num.stars.unique()"
   ]
  },
  {
   "cell_type": "code",
   "execution_count": 23,
   "id": "3477ac1b-1331-4bef-94ac-a9ef3f9f1fab",
   "metadata": {},
   "outputs": [
    {
     "data": {
      "text/plain": [
       "asin            2222742\n",
       "title           2077591\n",
       "isBestSeller          2\n",
       "category            296\n",
       "dtype: int64"
      ]
     },
     "execution_count": 23,
     "metadata": {},
     "output_type": "execute_result"
    }
   ],
   "source": [
    "cat.nunique()"
   ]
  },
  {
   "cell_type": "markdown",
   "id": "16dcb476-3dc9-4e89-9c2b-30114f5b8f22",
   "metadata": {},
   "source": [
    "**What are the most popular product categories on Amazon UK, and how do they compare in terms of listing frequency?**\n"
   ]
  },
  {
   "cell_type": "markdown",
   "id": "aca7a279-3fb3-4987-8ad3-974af2fa71bb",
   "metadata": {},
   "source": [
    "**Frequency Tables:**\r\n",
    "\r\n",
    "Generate a frequency table for the product category.\r\n",
    "Which are the top 5 most listed product categories?\r\n",
    "Visualizations:\r\n",
    "\r\n",
    "Display the distribution of products across different categories using a bar chart. If you face problems understanding the chart, do it for a subset of top categories.\r\n",
    "For a subset of top categories, visualize their proportions using a pie chart. Does any category dominate the listings?"
   ]
  },
  {
   "cell_type": "code",
   "execution_count": 76,
   "id": "15951a80-4606-45c1-8f66-62747173b251",
   "metadata": {},
   "outputs": [
    {
     "data": {
      "text/plain": [
       "category\n",
       "Sports & Outdoors                         836265\n",
       "Beauty                                     19312\n",
       "Handmade Clothing, Shoes & Accessories     19229\n",
       "Bath & Body                                19092\n",
       "Birthday Gifts                             18978\n",
       "                                           ...  \n",
       "Alexa Built-In Devices                       107\n",
       "Motorbike Chassis                            107\n",
       "Plugs                                        107\n",
       "Smart Home Security & Lighting               104\n",
       "Smart Speakers                                54\n",
       "Name: count, Length: 296, dtype: int64"
      ]
     },
     "execution_count": 76,
     "metadata": {},
     "output_type": "execute_result"
    }
   ],
   "source": [
    "frequency_table = cat['category'].value_counts()\n",
    "frequency_table\n"
   ]
  },
  {
   "cell_type": "code",
   "execution_count": 44,
   "id": "b2d3d7f4-2b0c-493e-ac4d-9a1d9dd454ee",
   "metadata": {},
   "outputs": [
    {
     "data": {
      "text/plain": [
       "category\n",
       "Sports & Outdoors                         0.34\n",
       "Beauty                                    0.01\n",
       "Handmade Clothing, Shoes & Accessories    0.01\n",
       "Bath & Body                               0.01\n",
       "Birthday Gifts                            0.01\n",
       "                                          ... \n",
       "Alexa Built-In Devices                    0.00\n",
       "Motorbike Chassis                         0.00\n",
       "Plugs                                     0.00\n",
       "Smart Home Security & Lighting            0.00\n",
       "Smart Speakers                            0.00\n",
       "Name: proportion, Length: 296, dtype: float64"
      ]
     },
     "execution_count": 44,
     "metadata": {},
     "output_type": "execute_result"
    }
   ],
   "source": [
    "proportion_table = cat.category.value_counts(normalize=True).round(2) #el normalize ya me lo da en porcentaje (frecuencia relativa)\n",
    "proportion_table"
   ]
  },
  {
   "cell_type": "code",
   "execution_count": 98,
   "id": "6badc576-b3f1-4fb1-94e6-517aebadd777",
   "metadata": {},
   "outputs": [
    {
     "data": {
      "text/html": [
       "<div>\n",
       "<style scoped>\n",
       "    .dataframe tbody tr th:only-of-type {\n",
       "        vertical-align: middle;\n",
       "    }\n",
       "\n",
       "    .dataframe tbody tr th {\n",
       "        vertical-align: top;\n",
       "    }\n",
       "\n",
       "    .dataframe thead th {\n",
       "        text-align: right;\n",
       "    }\n",
       "</style>\n",
       "<table border=\"1\" class=\"dataframe\">\n",
       "  <thead>\n",
       "    <tr style=\"text-align: right;\">\n",
       "      <th></th>\n",
       "      <th>count</th>\n",
       "      <th>proportion</th>\n",
       "    </tr>\n",
       "    <tr>\n",
       "      <th>category</th>\n",
       "      <th></th>\n",
       "      <th></th>\n",
       "    </tr>\n",
       "  </thead>\n",
       "  <tbody>\n",
       "    <tr>\n",
       "      <th>Sports &amp; Outdoors</th>\n",
       "      <td>836265</td>\n",
       "      <td>0.34</td>\n",
       "    </tr>\n",
       "    <tr>\n",
       "      <th>Beauty</th>\n",
       "      <td>19312</td>\n",
       "      <td>0.01</td>\n",
       "    </tr>\n",
       "    <tr>\n",
       "      <th>Handmade Clothing, Shoes &amp; Accessories</th>\n",
       "      <td>19229</td>\n",
       "      <td>0.01</td>\n",
       "    </tr>\n",
       "    <tr>\n",
       "      <th>Bath &amp; Body</th>\n",
       "      <td>19092</td>\n",
       "      <td>0.01</td>\n",
       "    </tr>\n",
       "    <tr>\n",
       "      <th>Birthday Gifts</th>\n",
       "      <td>18978</td>\n",
       "      <td>0.01</td>\n",
       "    </tr>\n",
       "    <tr>\n",
       "      <th>...</th>\n",
       "      <td>...</td>\n",
       "      <td>...</td>\n",
       "    </tr>\n",
       "    <tr>\n",
       "      <th>Alexa Built-In Devices</th>\n",
       "      <td>107</td>\n",
       "      <td>0.00</td>\n",
       "    </tr>\n",
       "    <tr>\n",
       "      <th>Motorbike Chassis</th>\n",
       "      <td>107</td>\n",
       "      <td>0.00</td>\n",
       "    </tr>\n",
       "    <tr>\n",
       "      <th>Plugs</th>\n",
       "      <td>107</td>\n",
       "      <td>0.00</td>\n",
       "    </tr>\n",
       "    <tr>\n",
       "      <th>Smart Home Security &amp; Lighting</th>\n",
       "      <td>104</td>\n",
       "      <td>0.00</td>\n",
       "    </tr>\n",
       "    <tr>\n",
       "      <th>Smart Speakers</th>\n",
       "      <td>54</td>\n",
       "      <td>0.00</td>\n",
       "    </tr>\n",
       "  </tbody>\n",
       "</table>\n",
       "<p>296 rows × 2 columns</p>\n",
       "</div>"
      ],
      "text/plain": [
       "                                         count  proportion\n",
       "category                                                  \n",
       "Sports & Outdoors                       836265        0.34\n",
       "Beauty                                   19312        0.01\n",
       "Handmade Clothing, Shoes & Accessories   19229        0.01\n",
       "Bath & Body                              19092        0.01\n",
       "Birthday Gifts                           18978        0.01\n",
       "...                                        ...         ...\n",
       "Alexa Built-In Devices                     107        0.00\n",
       "Motorbike Chassis                          107        0.00\n",
       "Plugs                                      107        0.00\n",
       "Smart Home Security & Lighting             104        0.00\n",
       "Smart Speakers                              54        0.00\n",
       "\n",
       "[296 rows x 2 columns]"
      ]
     },
     "execution_count": 98,
     "metadata": {},
     "output_type": "execute_result"
    }
   ],
   "source": [
    "df2 = pd.concat([frequency_table, proportion_table], axis=1) #el indice seria MSZoning por eso ponemos el axis=1\n",
    "df2"
   ]
  },
  {
   "cell_type": "code",
   "execution_count": 100,
   "id": "f11a6aae-60b9-4535-abfb-7db92e09254a",
   "metadata": {},
   "outputs": [
    {
     "data": {
      "text/html": [
       "<div>\n",
       "<style scoped>\n",
       "    .dataframe tbody tr th:only-of-type {\n",
       "        vertical-align: middle;\n",
       "    }\n",
       "\n",
       "    .dataframe tbody tr th {\n",
       "        vertical-align: top;\n",
       "    }\n",
       "\n",
       "    .dataframe thead th {\n",
       "        text-align: right;\n",
       "    }\n",
       "</style>\n",
       "<table border=\"1\" class=\"dataframe\">\n",
       "  <thead>\n",
       "    <tr style=\"text-align: right;\">\n",
       "      <th></th>\n",
       "      <th>absolute_frequency</th>\n",
       "      <th>relative_frequency</th>\n",
       "    </tr>\n",
       "    <tr>\n",
       "      <th>category</th>\n",
       "      <th></th>\n",
       "      <th></th>\n",
       "    </tr>\n",
       "  </thead>\n",
       "  <tbody>\n",
       "    <tr>\n",
       "      <th>Sports &amp; Outdoors</th>\n",
       "      <td>836265</td>\n",
       "      <td>0.34</td>\n",
       "    </tr>\n",
       "    <tr>\n",
       "      <th>Beauty</th>\n",
       "      <td>19312</td>\n",
       "      <td>0.01</td>\n",
       "    </tr>\n",
       "    <tr>\n",
       "      <th>Handmade Clothing, Shoes &amp; Accessories</th>\n",
       "      <td>19229</td>\n",
       "      <td>0.01</td>\n",
       "    </tr>\n",
       "    <tr>\n",
       "      <th>Bath &amp; Body</th>\n",
       "      <td>19092</td>\n",
       "      <td>0.01</td>\n",
       "    </tr>\n",
       "    <tr>\n",
       "      <th>Birthday Gifts</th>\n",
       "      <td>18978</td>\n",
       "      <td>0.01</td>\n",
       "    </tr>\n",
       "    <tr>\n",
       "      <th>...</th>\n",
       "      <td>...</td>\n",
       "      <td>...</td>\n",
       "    </tr>\n",
       "    <tr>\n",
       "      <th>Alexa Built-In Devices</th>\n",
       "      <td>107</td>\n",
       "      <td>0.00</td>\n",
       "    </tr>\n",
       "    <tr>\n",
       "      <th>Motorbike Chassis</th>\n",
       "      <td>107</td>\n",
       "      <td>0.00</td>\n",
       "    </tr>\n",
       "    <tr>\n",
       "      <th>Plugs</th>\n",
       "      <td>107</td>\n",
       "      <td>0.00</td>\n",
       "    </tr>\n",
       "    <tr>\n",
       "      <th>Smart Home Security &amp; Lighting</th>\n",
       "      <td>104</td>\n",
       "      <td>0.00</td>\n",
       "    </tr>\n",
       "    <tr>\n",
       "      <th>Smart Speakers</th>\n",
       "      <td>54</td>\n",
       "      <td>0.00</td>\n",
       "    </tr>\n",
       "  </tbody>\n",
       "</table>\n",
       "<p>296 rows × 2 columns</p>\n",
       "</div>"
      ],
      "text/plain": [
       "                                        absolute_frequency  relative_frequency\n",
       "category                                                                      \n",
       "Sports & Outdoors                                   836265                0.34\n",
       "Beauty                                               19312                0.01\n",
       "Handmade Clothing, Shoes & Accessories               19229                0.01\n",
       "Bath & Body                                          19092                0.01\n",
       "Birthday Gifts                                       18978                0.01\n",
       "...                                                    ...                 ...\n",
       "Alexa Built-In Devices                                 107                0.00\n",
       "Motorbike Chassis                                      107                0.00\n",
       "Plugs                                                  107                0.00\n",
       "Smart Home Security & Lighting                         104                0.00\n",
       "Smart Speakers                                          54                0.00\n",
       "\n",
       "[296 rows x 2 columns]"
      ]
     },
     "execution_count": 100,
     "metadata": {},
     "output_type": "execute_result"
    }
   ],
   "source": [
    "# Cambiale los nombres de las columnas\n",
    "df2.columns = ['absolute_frequency', 'relative_frequency']\n",
    "df2"
   ]
  },
  {
   "cell_type": "code",
   "execution_count": 102,
   "id": "00b70d97-0ae1-46d6-b9e1-5aed01d50d49",
   "metadata": {},
   "outputs": [
    {
     "name": "stdout",
     "output_type": "stream",
     "text": [
      "2443651\n",
      "0.54\n"
     ]
    }
   ],
   "source": [
    "total_absolute = frequency_table.sum()\n",
    "print(total_absolute)\n",
    "total_relative = proportion_table.sum() #siempre debe sumar 1, si no me da justo el 1 es porque no redondee previamente.\n",
    "print(total_relative)"
   ]
  },
  {
   "cell_type": "code",
   "execution_count": 104,
   "id": "a8e3b97f-12ed-4e69-9fb5-58d9a7a6f8ae",
   "metadata": {},
   "outputs": [
    {
     "data": {
      "text/html": [
       "<div>\n",
       "<style scoped>\n",
       "    .dataframe tbody tr th:only-of-type {\n",
       "        vertical-align: middle;\n",
       "    }\n",
       "\n",
       "    .dataframe tbody tr th {\n",
       "        vertical-align: top;\n",
       "    }\n",
       "\n",
       "    .dataframe thead th {\n",
       "        text-align: right;\n",
       "    }\n",
       "</style>\n",
       "<table border=\"1\" class=\"dataframe\">\n",
       "  <thead>\n",
       "    <tr style=\"text-align: right;\">\n",
       "      <th></th>\n",
       "      <th>absolute_frequency</th>\n",
       "      <th>relative_frequency</th>\n",
       "    </tr>\n",
       "  </thead>\n",
       "  <tbody>\n",
       "    <tr>\n",
       "      <th>Total</th>\n",
       "      <td>2443651</td>\n",
       "      <td>0.54</td>\n",
       "    </tr>\n",
       "  </tbody>\n",
       "</table>\n",
       "</div>"
      ],
      "text/plain": [
       "       absolute_frequency  relative_frequency\n",
       "Total             2443651                0.54"
      ]
     },
     "execution_count": 104,
     "metadata": {},
     "output_type": "execute_result"
    }
   ],
   "source": [
    "#a;ado una fila \n",
    "total_row = pd.DataFrame({\n",
    "    'absolute_frequency': [total_absolute],\n",
    "    'relative_frequency': [total_relative]\n",
    "}, index=['Total'])\n",
    "total_row"
   ]
  },
  {
   "cell_type": "code",
   "execution_count": 106,
   "id": "661d31bf-7412-4590-a55c-879d305f4090",
   "metadata": {},
   "outputs": [],
   "source": [
    "df3 = pd.concat([df2,total_row]) #aqui no pongo axis1 porque quiero que lo ponga abajo."
   ]
  },
  {
   "cell_type": "code",
   "execution_count": 108,
   "id": "db7727b5-10a8-41b7-8e85-4956d0b727e6",
   "metadata": {},
   "outputs": [
    {
     "data": {
      "text/html": [
       "<div>\n",
       "<style scoped>\n",
       "    .dataframe tbody tr th:only-of-type {\n",
       "        vertical-align: middle;\n",
       "    }\n",
       "\n",
       "    .dataframe tbody tr th {\n",
       "        vertical-align: top;\n",
       "    }\n",
       "\n",
       "    .dataframe thead th {\n",
       "        text-align: right;\n",
       "    }\n",
       "</style>\n",
       "<table border=\"1\" class=\"dataframe\">\n",
       "  <thead>\n",
       "    <tr style=\"text-align: right;\">\n",
       "      <th></th>\n",
       "      <th>absolute_frequency</th>\n",
       "      <th>relative_frequency</th>\n",
       "    </tr>\n",
       "  </thead>\n",
       "  <tbody>\n",
       "    <tr>\n",
       "      <th>Sports &amp; Outdoors</th>\n",
       "      <td>836265</td>\n",
       "      <td>0.34</td>\n",
       "    </tr>\n",
       "    <tr>\n",
       "      <th>Beauty</th>\n",
       "      <td>19312</td>\n",
       "      <td>0.01</td>\n",
       "    </tr>\n",
       "    <tr>\n",
       "      <th>Handmade Clothing, Shoes &amp; Accessories</th>\n",
       "      <td>19229</td>\n",
       "      <td>0.01</td>\n",
       "    </tr>\n",
       "    <tr>\n",
       "      <th>Bath &amp; Body</th>\n",
       "      <td>19092</td>\n",
       "      <td>0.01</td>\n",
       "    </tr>\n",
       "    <tr>\n",
       "      <th>Birthday Gifts</th>\n",
       "      <td>18978</td>\n",
       "      <td>0.01</td>\n",
       "    </tr>\n",
       "    <tr>\n",
       "      <th>...</th>\n",
       "      <td>...</td>\n",
       "      <td>...</td>\n",
       "    </tr>\n",
       "    <tr>\n",
       "      <th>Motorbike Chassis</th>\n",
       "      <td>107</td>\n",
       "      <td>0.00</td>\n",
       "    </tr>\n",
       "    <tr>\n",
       "      <th>Plugs</th>\n",
       "      <td>107</td>\n",
       "      <td>0.00</td>\n",
       "    </tr>\n",
       "    <tr>\n",
       "      <th>Smart Home Security &amp; Lighting</th>\n",
       "      <td>104</td>\n",
       "      <td>0.00</td>\n",
       "    </tr>\n",
       "    <tr>\n",
       "      <th>Smart Speakers</th>\n",
       "      <td>54</td>\n",
       "      <td>0.00</td>\n",
       "    </tr>\n",
       "    <tr>\n",
       "      <th>Total</th>\n",
       "      <td>2443651</td>\n",
       "      <td>0.54</td>\n",
       "    </tr>\n",
       "  </tbody>\n",
       "</table>\n",
       "<p>297 rows × 2 columns</p>\n",
       "</div>"
      ],
      "text/plain": [
       "                                        absolute_frequency  relative_frequency\n",
       "Sports & Outdoors                                   836265                0.34\n",
       "Beauty                                               19312                0.01\n",
       "Handmade Clothing, Shoes & Accessories               19229                0.01\n",
       "Bath & Body                                          19092                0.01\n",
       "Birthday Gifts                                       18978                0.01\n",
       "...                                                    ...                 ...\n",
       "Motorbike Chassis                                      107                0.00\n",
       "Plugs                                                  107                0.00\n",
       "Smart Home Security & Lighting                         104                0.00\n",
       "Smart Speakers                                          54                0.00\n",
       "Total                                              2443651                0.54\n",
       "\n",
       "[297 rows x 2 columns]"
      ]
     },
     "execution_count": 108,
     "metadata": {},
     "output_type": "execute_result"
    }
   ],
   "source": [
    "df3"
   ]
  },
  {
   "cell_type": "code",
   "execution_count": 110,
   "id": "b9085e64-d4bd-43d9-be92-cb16f99969ee",
   "metadata": {},
   "outputs": [
    {
     "data": {
      "text/html": [
       "<div>\n",
       "<style scoped>\n",
       "    .dataframe tbody tr th:only-of-type {\n",
       "        vertical-align: middle;\n",
       "    }\n",
       "\n",
       "    .dataframe tbody tr th {\n",
       "        vertical-align: top;\n",
       "    }\n",
       "\n",
       "    .dataframe thead th {\n",
       "        text-align: right;\n",
       "    }\n",
       "</style>\n",
       "<table border=\"1\" class=\"dataframe\">\n",
       "  <thead>\n",
       "    <tr style=\"text-align: right;\">\n",
       "      <th></th>\n",
       "      <th>category</th>\n",
       "      <th>absolute_frequency</th>\n",
       "      <th>relative_frequency</th>\n",
       "    </tr>\n",
       "  </thead>\n",
       "  <tbody>\n",
       "    <tr>\n",
       "      <th>0</th>\n",
       "      <td>Sports &amp; Outdoors</td>\n",
       "      <td>836265</td>\n",
       "      <td>0.34</td>\n",
       "    </tr>\n",
       "    <tr>\n",
       "      <th>1</th>\n",
       "      <td>Beauty</td>\n",
       "      <td>19312</td>\n",
       "      <td>0.01</td>\n",
       "    </tr>\n",
       "    <tr>\n",
       "      <th>2</th>\n",
       "      <td>Handmade Clothing, Shoes &amp; Accessories</td>\n",
       "      <td>19229</td>\n",
       "      <td>0.01</td>\n",
       "    </tr>\n",
       "    <tr>\n",
       "      <th>3</th>\n",
       "      <td>Bath &amp; Body</td>\n",
       "      <td>19092</td>\n",
       "      <td>0.01</td>\n",
       "    </tr>\n",
       "    <tr>\n",
       "      <th>4</th>\n",
       "      <td>Birthday Gifts</td>\n",
       "      <td>18978</td>\n",
       "      <td>0.01</td>\n",
       "    </tr>\n",
       "    <tr>\n",
       "      <th>...</th>\n",
       "      <td>...</td>\n",
       "      <td>...</td>\n",
       "      <td>...</td>\n",
       "    </tr>\n",
       "    <tr>\n",
       "      <th>291</th>\n",
       "      <td>Alexa Built-In Devices</td>\n",
       "      <td>107</td>\n",
       "      <td>0.00</td>\n",
       "    </tr>\n",
       "    <tr>\n",
       "      <th>292</th>\n",
       "      <td>Motorbike Chassis</td>\n",
       "      <td>107</td>\n",
       "      <td>0.00</td>\n",
       "    </tr>\n",
       "    <tr>\n",
       "      <th>293</th>\n",
       "      <td>Plugs</td>\n",
       "      <td>107</td>\n",
       "      <td>0.00</td>\n",
       "    </tr>\n",
       "    <tr>\n",
       "      <th>294</th>\n",
       "      <td>Smart Home Security &amp; Lighting</td>\n",
       "      <td>104</td>\n",
       "      <td>0.00</td>\n",
       "    </tr>\n",
       "    <tr>\n",
       "      <th>295</th>\n",
       "      <td>Smart Speakers</td>\n",
       "      <td>54</td>\n",
       "      <td>0.00</td>\n",
       "    </tr>\n",
       "  </tbody>\n",
       "</table>\n",
       "<p>296 rows × 3 columns</p>\n",
       "</div>"
      ],
      "text/plain": [
       "                                   category  absolute_frequency  \\\n",
       "0                         Sports & Outdoors              836265   \n",
       "1                                    Beauty               19312   \n",
       "2    Handmade Clothing, Shoes & Accessories               19229   \n",
       "3                               Bath & Body               19092   \n",
       "4                            Birthday Gifts               18978   \n",
       "..                                      ...                 ...   \n",
       "291                  Alexa Built-In Devices                 107   \n",
       "292                       Motorbike Chassis                 107   \n",
       "293                                   Plugs                 107   \n",
       "294          Smart Home Security & Lighting                 104   \n",
       "295                          Smart Speakers                  54   \n",
       "\n",
       "     relative_frequency  \n",
       "0                  0.34  \n",
       "1                  0.01  \n",
       "2                  0.01  \n",
       "3                  0.01  \n",
       "4                  0.01  \n",
       "..                  ...  \n",
       "291                0.00  \n",
       "292                0.00  \n",
       "293                0.00  \n",
       "294                0.00  \n",
       "295                0.00  \n",
       "\n",
       "[296 rows x 3 columns]"
      ]
     },
     "execution_count": 110,
     "metadata": {},
     "output_type": "execute_result"
    }
   ],
   "source": [
    "df2 = df2.reset_index()## PORQUE HACEMOS ESTO? Para que MSZoning este en el eje x\n",
    "df2"
   ]
  },
  {
   "cell_type": "code",
   "execution_count": 72,
   "id": "c6aba96b-b34e-45e7-8e18-f9fa54f62111",
   "metadata": {},
   "outputs": [
    {
     "data": {
      "text/plain": [
       "category\n",
       "Sports & Outdoors                         836265\n",
       "Beauty                                     19312\n",
       "Handmade Clothing, Shoes & Accessories     19229\n",
       "Bath & Body                                19092\n",
       "Birthday Gifts                             18978\n",
       "Name: count, dtype: int64"
      ]
     },
     "execution_count": 72,
     "metadata": {},
     "output_type": "execute_result"
    }
   ],
   "source": [
    "#df_top5 = frequency_table.nlargest()\n",
    "#df_top5"
   ]
  },
  {
   "cell_type": "code",
   "execution_count": 114,
   "id": "e856ab0d-54bb-4705-a9a9-8180ee2ffa4e",
   "metadata": {},
   "outputs": [
    {
     "data": {
      "text/plain": [
       "pandas.core.series.Series"
      ]
     },
     "execution_count": 114,
     "metadata": {},
     "output_type": "execute_result"
    }
   ],
   "source": [
    "top_5_categories = frequency_table.head(5)\n",
    "top_5_categories\n"
   ]
  },
  {
   "cell_type": "code",
   "execution_count": 96,
   "id": "afdeeff4-5f48-4d9d-8404-da1872ac1ac4",
   "metadata": {},
   "outputs": [
    {
     "data": {
      "image/png": "[encoded data removed]",
      "text/plain": [
       "<Figure size 800x600 with 1 Axes>"
      ]
     },
     "metadata": {},
     "output_type": "display_data"
    }
   ],
   "source": [
    "plt.figure(figsize=(8, 6))\n",
    "top_5_categories.plot(kind='bar')\n",
    "plt.title(\"Top 5 Product Categories\")\n",
    "plt.xlabel(\"Category\")\n",
    "plt.ylabel(\"Number of Products\")\n",
    "plt.xticks(rotation=60)\n",
    "plt.show()\n"
   ]
  },
  {
   "cell_type": "markdown",
   "id": "75869560-ba74-4c54-8096-ce5fa345dc6b",
   "metadata": {},
   "source": [
    "Conclusion: La categoria de deportes domina sobre las demas categorias ya que representa el 34% sobre el total de las categorias."
   ]
  },
  {
   "cell_type": "markdown",
   "id": "438bf499-a706-4923-9254-4d52ae484320",
   "metadata": {},
   "source": [
    "**Part 2: Delving into Product Pricing**\n",
    "\n",
    "**\n",
    "Business Question**\n",
    " How are products priced on Amazon UK, and are there specific price points or ranges that are more common?\r\n",
    "\r\n",
    "Measures of Centrality:\r\n",
    "\r\n",
    "Calculate the mean, median, and mode for the price of products.\r\n",
    "What's the average price point of products listed? How does this compare with the most common price point (mode)?\r\n",
    "Measures of Dispersion:\r\n",
    "\r\n",
    "Determine the variance, standard deviation, range, and interquartile range for product price.\r\n",
    "How varied are the product prices? Are there any indicators of a significant spread in prices?\r\n",
    "Visualizations:\r\n",
    "\r\n",
    "Is there a specific price range where most products fall? Plot a histogram to visualize the distribution of product prices. If its hard to read these diagrams, think why this is, and explain how it could be solved..\r\n",
    "Are there products that are priced significantly higher than the rest? Use a box plot to showcase the spread and potential outliers in product pricing."
   ]
  },
  {
   "cell_type": "code",
   "execution_count": 191,
   "id": "44923907-d8ed-4348-ba17-36cfa5804309",
   "metadata": {},
   "outputs": [
    {
     "data": {
      "text/plain": [
       "count    2443651.0\n",
       "mean          89.0\n",
       "std          346.0\n",
       "min            0.0\n",
       "25%           10.0\n",
       "50%           19.0\n",
       "75%           46.0\n",
       "max       100000.0\n",
       "Name: price, dtype: float64"
      ]
     },
     "execution_count": 191,
     "metadata": {},
     "output_type": "execute_result"
    }
   ],
   "source": [
    "df.price.describe().round(0)"
   ]
  },
  {
   "cell_type": "markdown",
   "id": "6d01f312-6ee2-476a-bc6d-c243b6310245",
   "metadata": {},
   "source": [
    "the average price point of products listed is 89"
   ]
  },
  {
   "cell_type": "code",
   "execution_count": 153,
   "id": "942f4385-cbed-4df4-9e59-747982c3bffb",
   "metadata": {},
   "outputs": [
    {
     "data": {
      "text/plain": [
       "0    10.0\n",
       "Name: price, dtype: float64"
      ]
     },
     "execution_count": 153,
     "metadata": {},
     "output_type": "execute_result"
    }
   ],
   "source": [
    "df.price.mode().round(0)"
   ]
  },
  {
   "cell_type": "markdown",
   "id": "7218db19-cdef-4989-8010-e9bf12ec5793",
   "metadata": {},
   "source": [
    "How does this compare with the most common price point (mode)? Measures of Dispersion:"
   ]
  },
  {
   "cell_type": "markdown",
   "id": "a6e167ec-1072-4f7e-9d5c-0a16b2ce1889",
   "metadata": {},
   "source": [
    "Hay una dispersion significativa."
   ]
  },
  {
   "cell_type": "markdown",
   "id": "43a7a9a3-b536-41e3-8733-148cc64defdf",
   "metadata": {},
   "source": [
    "Determine the variance, standard deviation, range, and interquartile range for product price. How varied are the product prices? Are there any indicators of a significant spread in prices? .\r\n"
   ]
  },
  {
   "cell_type": "code",
   "execution_count": 157,
   "id": "ae72b96d-d228-4470-b30e-544abbba1be7",
   "metadata": {},
   "outputs": [
    {
     "data": {
      "text/plain": [
       "119445.48532256528"
      ]
     },
     "execution_count": 157,
     "metadata": {},
     "output_type": "execute_result"
    }
   ],
   "source": [
    "df[\"price\"].var()"
   ]
  },
  {
   "cell_type": "code",
   "execution_count": 159,
   "id": "30ece507-8c1f-4c32-92e8-590f4edca314",
   "metadata": {},
   "outputs": [
    {
     "data": {
      "text/plain": [
       "345.60886175352226"
      ]
     },
     "execution_count": 159,
     "metadata": {},
     "output_type": "execute_result"
    }
   ],
   "source": [
    "df[\"price\"].std()"
   ]
  },
  {
   "cell_type": "code",
   "execution_count": 164,
   "id": "2e830835-3f47-4a7a-9aa8-d8c85a23015c",
   "metadata": {},
   "outputs": [
    {
     "data": {
      "text/plain": [
       "100000.0"
      ]
     },
     "execution_count": 164,
     "metadata": {},
     "output_type": "execute_result"
    }
   ],
   "source": [
    "range = df[\"price\"].max() - df[\"price\"].min()\n",
    "range"
   ]
  },
  {
   "cell_type": "markdown",
   "id": "318d1d0c-7cdd-43ff-9404-07755f74859a",
   "metadata": {},
   "source": [
    "Visualizations:\n",
    "\n",
    "Is there a specific price range where most products fall? Plot a histogram to visualize the distribution of product prices. If its hard to read these diagrams, think why this is, and explain how it could be solved..\n",
    "\n",
    "Are there products that are priced significantly higher than the rest? Use a box plot to showcase the spread and potential outliers in product pricing."
   ]
  },
  {
   "cell_type": "code",
   "execution_count": 171,
   "id": "3a2bb450-a563-4219-aaad-bbf314f6138c",
   "metadata": {},
   "outputs": [
    {
     "data": {
      "text/plain": [
       "27.49"
      ]
     },
     "execution_count": 171,
     "metadata": {},
     "output_type": "execute_result"
    }
   ],
   "source": [
    "df.price.skew().round(2)"
   ]
  },
  {
   "cell_type": "markdown",
   "id": "eb160b48-cc02-46a3-b253-0118ff858a44",
   "metadata": {},
   "source": [
    "Skewness > 0: The distribution is positively skewed (or right-skewed), meaning there is a longer tail on the right side of the distribution. The mass of the distribution is concentrated on the left of the figure."
   ]
  },
  {
   "cell_type": "code",
   "execution_count": 174,
   "id": "19e59de5-6886-4b7f-8b20-9d027f39feea",
   "metadata": {},
   "outputs": [
    {
     "data": {
      "text/plain": [
       "4241.62"
      ]
     },
     "execution_count": 174,
     "metadata": {},
     "output_type": "execute_result"
    }
   ],
   "source": [
    "# kurtosis --> kurtosis() nos saldria puntiaguda.\n",
    "\n",
    "df.price.kurtosis().round(2)"
   ]
  },
  {
   "cell_type": "markdown",
   "id": "4644fd88-cff5-4a9a-9e71-1740566d9b37",
   "metadata": {},
   "source": [
    "Excess Kurtosis > 0 (or Kurtosis > 3 for non-excess): The distribution is leptokurtic. It has fatter tails and a sharper peak than the normal distribution, indicating more extreme values (outliers) than expected in a normal distribution."
   ]
  },
  {
   "cell_type": "code",
   "execution_count": 185,
   "id": "9cd75243-bd64-4ab6-bd3c-35eb36267965",
   "metadata": {},
   "outputs": [
    {
     "data": {
      "image/png": "[encoded data removed]",
      "text/plain": [
       "<Figure size 640x480 with 1 Axes>"
      ]
     },
     "metadata": {},
     "output_type": "display_data"
    }
   ],
   "source": [
    "sns.histplot(df.price, bins=20) #numero de bins es el numero de barras.\n",
    "plt.show()"
   ]
  },
  {
   "cell_type": "markdown",
   "id": "b7843d81-3ca4-4219-a947-c9df63b27eac",
   "metadata": {},
   "source": [
    "Yes, because there are products that are priced significantly higher than the rest, in order to solved this problem we can do a hisploc for the 5 lowest prices and the 5 higer prices.\n"
   ]
  },
  {
   "cell_type": "markdown",
   "id": "0d7ab907-e9d6-4773-a436-5d3f00b5381c",
   "metadata": {},
   "source": [
    "Are there products that are priced significantly higher than the rest? Yes\n",
    "\n",
    "Use a box plot to showcase the spread and potential outliers in product pricing."
   ]
  },
  {
   "cell_type": "code",
   "execution_count": 194,
   "id": "2f6d0274-ba63-4d91-a267-9e4a62bcadca",
   "metadata": {},
   "outputs": [
    {
     "data": {
      "image/png": "[encoded data removed]",
      "text/plain": [
       "<Figure size 640x480 with 1 Axes>"
      ]
     },
     "metadata": {},
     "output_type": "display_data"
    }
   ],
   "source": [
    "sns.boxplot(data=df.price)\n",
    "plt.show()"
   ]
  },
  {
   "cell_type": "markdown",
   "id": "7d6fa0bd-2b4d-4ea4-9be1-2e65aab4c41b",
   "metadata": {},
   "source": [
    "Part 3: Unpacking Product Ratings\r\n",
    "Business Question: How do customers rate products on Amazon UK, and are there any patterns or tendencies in the ratings?\r\n",
    "\r\n",
    "Measures of Centrality:\r\n",
    "\r\n",
    "Calculate the mean, median, and mode for the rating of products.\r\n",
    "How do customers generally rate products? Is there a common trend?\r\n",
    "Measures of Dispersion:\r\n",
    "\r\n",
    "Determine the variance, standard deviation, and interquartile range for product rating.\r\n",
    "Are the ratings consistent, or is there a wide variation in customer feedback?\r\n",
    "Shape of the Distribution:\r\n",
    "\r\n",
    "Calculate the skewness and kurtosis for the rating column.\r\n",
    "Are the ratings normally distributed, or do they lean towards higher or lower values?\r\n",
    "Visualizations:\r\n",
    "\r\n",
    "Plot a histogram to visualize the distribution of product ratings. Is there a specific rating that is more common?"
   ]
  },
  {
   "cell_type": "markdown",
   "id": "de7b0dd6-0dfb-4308-8ac6-5b061c4a3e81",
   "metadata": {},
   "source": [
    "How do customers rate products on Amazon UK, and are there any patterns or tendencies in the ratings?\n",
    "\n",
    "The rating goes from 0 to 5, there are no determine patterns, we can see that most of the products have a rating of zero stars, this could be because some people arent use to leave a rating. "
   ]
  },
  {
   "cell_type": "code",
   "execution_count": 211,
   "id": "4ecf4c17-dad3-4e00-9998-c6cc6717a55a",
   "metadata": {},
   "outputs": [
    {
     "data": {
      "text/plain": [
       "stars\n",
       "0.0    1225641\n",
       "4.5     151577\n",
       "4.6     136995\n",
       "4.4     136165\n",
       "5.0     128492\n",
       "4.3     112564\n",
       "4.7      94566\n",
       "4.2      86871\n",
       "4.0      66089\n",
       "4.1      65115\n",
       "4.8      41858\n",
       "3.9      36555\n",
       "3.8      27876\n",
       "3.7      21137\n",
       "3.6      16219\n",
       "3.5      14673\n",
       "3.0      12819\n",
       "4.9      11081\n",
       "3.4      10355\n",
       "1.0       8484\n",
       "3.3       8269\n",
       "3.2       5771\n",
       "3.1       4679\n",
       "2.0       3901\n",
       "2.9       3341\n",
       "2.8       2306\n",
       "2.7       2104\n",
       "2.5       2103\n",
       "2.6       1579\n",
       "2.4       1060\n",
       "2.3        734\n",
       "2.2        602\n",
       "2.1        540\n",
       "1.5        404\n",
       "1.9        300\n",
       "1.8        249\n",
       "1.7        177\n",
       "1.4        149\n",
       "1.6        147\n",
       "1.3         78\n",
       "1.2         23\n",
       "1.1          3\n",
       "Name: count, dtype: int64"
      ]
     },
     "execution_count": 211,
     "metadata": {},
     "output_type": "execute_result"
    }
   ],
   "source": [
    "frequency_table = df.stars.value_counts()\n",
    "frequency_table\n",
    "\n"
   ]
  },
  {
   "cell_type": "code",
   "execution_count": 209,
   "id": "7588490e-f62a-45c0-8714-106d54b8cf81",
   "metadata": {},
   "outputs": [
    {
     "data": {
      "text/plain": [
       "stars\n",
       "0.0    0.50\n",
       "4.5    0.06\n",
       "4.6    0.06\n",
       "4.4    0.06\n",
       "5.0    0.05\n",
       "4.3    0.05\n",
       "4.7    0.04\n",
       "4.2    0.04\n",
       "4.0    0.03\n",
       "4.1    0.03\n",
       "4.8    0.02\n",
       "3.9    0.01\n",
       "3.8    0.01\n",
       "3.7    0.01\n",
       "3.6    0.01\n",
       "3.5    0.01\n",
       "3.0    0.01\n",
       "4.9    0.00\n",
       "3.4    0.00\n",
       "1.0    0.00\n",
       "3.3    0.00\n",
       "3.2    0.00\n",
       "3.1    0.00\n",
       "2.0    0.00\n",
       "2.9    0.00\n",
       "2.8    0.00\n",
       "2.7    0.00\n",
       "2.5    0.00\n",
       "2.6    0.00\n",
       "2.4    0.00\n",
       "2.3    0.00\n",
       "2.2    0.00\n",
       "2.1    0.00\n",
       "1.5    0.00\n",
       "1.9    0.00\n",
       "1.8    0.00\n",
       "1.7    0.00\n",
       "1.4    0.00\n",
       "1.6    0.00\n",
       "1.3    0.00\n",
       "1.2    0.00\n",
       "1.1    0.00\n",
       "Name: proportion, dtype: float64"
      ]
     },
     "execution_count": 209,
     "metadata": {},
     "output_type": "execute_result"
    }
   ],
   "source": [
    "proportion_table = df.stars.value_counts(normalize=True).round(2) #el normalize ya me lo da en porcentaje (frecuencia relativa)\n",
    "proportion_table"
   ]
  },
  {
   "cell_type": "code",
   "execution_count": 217,
   "id": "203983a9-f9d2-4c5f-92d7-73139591a927",
   "metadata": {},
   "outputs": [
    {
     "data": {
      "text/plain": [
       "count    2443651.0\n",
       "mean           2.0\n",
       "std            2.0\n",
       "min            0.0\n",
       "25%            0.0\n",
       "50%            0.0\n",
       "75%            4.0\n",
       "max            5.0\n",
       "Name: stars, dtype: float64"
      ]
     },
     "execution_count": 217,
     "metadata": {},
     "output_type": "execute_result"
    }
   ],
   "source": [
    "#Calculate the mean, median, and mode for the rating of products.\n",
    "df.stars.describe().round(0)"
   ]
  },
  {
   "cell_type": "markdown",
   "id": "4951bf8f-03ae-447e-9e4c-ad48156c9869",
   "metadata": {},
   "source": [
    "Determine the variance, standard deviation, and interquartile range for product rating. Are the ratings consistent, or is there a wide variation in customer feedback? Shape of the Distribution:\n"
   ]
  },
  {
   "cell_type": "code",
   "execution_count": 220,
   "id": "b31c74d4-623a-4090-a705-605d1f36af0d",
   "metadata": {},
   "outputs": [
    {
     "data": {
      "text/plain": [
       "4.81743402976196"
      ]
     },
     "execution_count": 220,
     "metadata": {},
     "output_type": "execute_result"
    }
   ],
   "source": [
    "df[\"stars\"].var()"
   ]
  },
  {
   "cell_type": "code",
   "execution_count": 222,
   "id": "4dfd17db-5e09-4862-a6be-e77ffe9fd4e4",
   "metadata": {},
   "outputs": [
    {
     "data": {
      "text/plain": [
       "2.1948653785054697"
      ]
     },
     "execution_count": 222,
     "metadata": {},
     "output_type": "execute_result"
    }
   ],
   "source": [
    "df[\"stars\"].std()"
   ]
  },
  {
   "cell_type": "code",
   "execution_count": 226,
   "id": "b447984b-0eb1-4e31-83ea-bedade1fee3a",
   "metadata": {},
   "outputs": [
    {
     "data": {
      "text/plain": [
       "5.0"
      ]
     },
     "execution_count": 226,
     "metadata": {},
     "output_type": "execute_result"
    }
   ],
   "source": [
    "range = df[\"stars\"].max() - df[\"stars\"].min()\n",
    "range"
   ]
  },
  {
   "cell_type": "code",
   "execution_count": 234,
   "id": "2ff327fc-6de4-47c5-a9c9-5e1ba9b48af6",
   "metadata": {},
   "outputs": [
    {
     "name": "stdout",
     "output_type": "stream",
     "text": [
      "Interquartile Range (IQR) for product rating: 4.4\n"
     ]
    }
   ],
   "source": [
    "# Calculate Q1 and Q3\n",
    "Q1 = df['stars'].quantile(0.25)\n",
    "Q3 = df['stars'].quantile(0.75)\n",
    "\n",
    "# Calculate IQR\n",
    "IQR = Q3 - Q1\n",
    "\n",
    "print(\"Interquartile Range (IQR) for product rating:\", IQR)\n"
   ]
  },
  {
   "cell_type": "code",
   "execution_count": 236,
   "id": "d64d5368-55fd-43f2-b663-94610a3f66d8",
   "metadata": {},
   "outputs": [
    {
     "data": {
      "text/plain": [
       "0.08"
      ]
     },
     "execution_count": 236,
     "metadata": {},
     "output_type": "execute_result"
    }
   ],
   "source": [
    "#Skewness > 0: The distribution is positively skewed (or right-skewed), meaning there is a longer tail on the right side of the distribution. \n",
    "#The mass of the distribution is concentrated on the left of the figure.\n",
    "df.stars.skew().round(2)"
   ]
  },
  {
   "cell_type": "code",
   "execution_count": 238,
   "id": "a3802ced-310d-4f92-a504-b2638dca996f",
   "metadata": {},
   "outputs": [
    {
     "data": {
      "text/plain": [
       "-1.93"
      ]
     },
     "execution_count": 238,
     "metadata": {},
     "output_type": "execute_result"
    }
   ],
   "source": [
    "#Excess Kurtosis < 0 (or Kurtosis < 3 for non-excess): The distribution is platykurtic. \n",
    "#It has thinner tails and a flatter peak than the normal distribution, indicating fewer extreme values than expected in a normal distribution.\n",
    "df.stars.kurtosis().round(2)"
   ]
  },
  {
   "cell_type": "markdown",
   "id": "4b371e3e-d6e9-4e4a-8781-f77d4fe9f57b",
   "metadata": {},
   "source": [
    "We can identify by the skew that the distribution is right-skewe so theres a longer tail on the right side. this is correct because the mayority of the rating is on zero and then it changes from 3 to 5."
   ]
  },
  {
   "cell_type": "markdown",
   "id": "dda6e213-63a0-4daf-87c9-37a026ab2140",
   "metadata": {},
   "source": [
    "Plot a histogram to visualize the distribution of product ratings. Is there a specific rating that is more common?"
   ]
  },
  {
   "cell_type": "code",
   "execution_count": 242,
   "id": "cf779ecf-cf47-4ccd-8a5f-fb55d8c4c2e7",
   "metadata": {},
   "outputs": [
    {
     "data": {
      "image/png": "[encoded data removed]",
      "text/plain": [
       "<Figure size 640x480 with 1 Axes>"
      ]
     },
     "metadata": {},
     "output_type": "display_data"
    }
   ],
   "source": [
    "sns.histplot(df.stars, bins=50) #numero de bins es el numero de barras.\n",
    "plt.show()"
   ]
  },
  {
   "cell_type": "markdown",
   "id": "e066a475-7894-4315-bb8e-493d5751d5c1",
   "metadata": {},
   "source": [
    " Is there a specific rating that is more common?\n",
    "\n",
    " Yes, the mos common rating is zero."
   ]
  },
  {
   "cell_type": "code",
   "execution_count": null,
   "id": "e372e2e2-e863-4045-93ad-cde4202bbd9d",
   "metadata": {},
   "outputs": [],
   "source": []
  }
 ],
 "metadata": {
  "kernelspec": {
   "display_name": "Python 3 (ipykernel)",
   "language": "python",
   "name": "python3"
  },
  "language_info": {
   "codemirror_mode": {
    "name": "ipython",
    "version": 3
   },
   "file_extension": ".py",
   "mimetype": "text/x-python",
   "name": "python",
   "nbconvert_exporter": "python",
   "pygments_lexer": "ipython3",
   "version": "3.12.4"
  }
 },
 "nbformat": 4,
 "nbformat_minor": 5
}
